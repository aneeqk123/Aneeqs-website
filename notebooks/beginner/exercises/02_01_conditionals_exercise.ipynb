{
  "cells": [
    {
      "cell_type": "markdown",
      "metadata": {
        "id": "SDEiTPt5Mgpd"
      },
      "source": [
        "# 1. `if-elif-else`\n",
        "Fill missing pieces (`____`) of the following code such that prints make sense."
      ]
    },
    {
      "cell_type": "code",
      "execution_count": null,
      "metadata": {
        "editable": false,
        "id": "hFk7DGsoMgpf"
      },
      "outputs": [],
      "source": [
        "name = \"John Doe\""
      ]
    },
    {
      "cell_type": "code",
      "execution_count": null,
      "metadata": {
        "id": "I9YoSJSiMgpg"
      },
      "outputs": [],
      "source": [
        "name = \"Johnny Doe\"\n",
        "if len(name) > 20:\n",
        "    print(f'Name \"{name}\" is more than 20 chars long')\n",
        "    length_description = \"long\"\n",
        "elif len(name) > 15:\n",
        "    print(f'Name \"{name}\" is more than 15 chars long')\n",
        "    length_description = \"semi long\"\n",
        "elif len(name) > 10:\n",
        "    print(f'Name \"{name}\" is more than 10 chars long')\n",
        "    length_description = \"semi long\"\n",
        "elif 10<= len(name) >7 :\n",
        "    print(f'Name \"{name}\" is 8, 9 or 10 chars long')\n",
        "    length_description = \"semi short\"\n",
        "else:\n",
        "    print(f'Name \"{name}\" is a short name')\n",
        "    length_description = \"short\""
      ]
    },
    {
      "cell_type": "code",
      "execution_count": null,
      "metadata": {
        "editable": false,
        "id": "m3CpoGw0Mgph"
      },
      "outputs": [],
      "source": [
        "assert length_description == \"semi short\""
      ]
    },
    {
      "cell_type": "markdown",
      "metadata": {
        "id": "8u1ryjQjMgph"
      },
      "source": [
        "### Grading Calculator"
      ]
    },
    {
      "cell_type": "code",
      "execution_count": null,
      "metadata": {
        "id": "w2QoemiMMgpi"
      },
      "outputs": [],
      "source": [
        "grade = 71"
      ]
    },
    {
      "cell_type": "code",
      "execution_count": null,
      "metadata": {
        "id": "AlA7CnWiMgpj"
      },
      "outputs": [],
      "source": [
        "if grade >= 90:\n",
        "    print(\"Grade: A*\")\n",
        "elif grade ____ 80:\n",
        "    print(\"Grade: A\")\n",
        "_______ >= 70:\n",
        "    print(\"Grade: B\")\n",
        "_______ >= 50:\n",
        "    print(\"Grade: C\")\n",
        "elif grade >= 40:\n",
        "    print(\"Grade: D\")\n",
        "elif grade >= 30:\n",
        "    print(\"Grade: E\")\n",
        "______:\n",
        "    print(\"Grade: U\")"
      ]
    },
    {
      "cell_type": "code",
      "execution_count": null,
      "metadata": {
        "id": "LFhJ9BwGMgpj"
      },
      "outputs": [],
      "source": [
        "assert grade >= 90 or grade >= 80 or grade >= 70 or grade >= 50 or grade >= 40 or grade >= 30 or grade < 30"
      ]
    },
    {
      "cell_type": "markdown",
      "metadata": {
        "id": "QVN3jqikMgpk"
      },
      "source": [
        "### Positive, Negative, or Zero"
      ]
    },
    {
      "cell_type": "code",
      "execution_count": null,
      "metadata": {
        "id": "1V2dwXOFMgpk"
      },
      "outputs": [],
      "source": [
        "num = float(input(\"Enter a number: \"))\n",
        "\n",
        "if ___ __ 0:\n",
        "    print(\"The number is positive.\")\n",
        "____ num ___ 0:\n",
        "    print(\"The number is negative.\")\n",
        "____\n",
        "    print(\"The number is zero.\")"
      ]
    },
    {
      "cell_type": "code",
      "execution_count": null,
      "metadata": {
        "id": "RPoxe2ALMgpl"
      },
      "outputs": [],
      "source": [
        "assert num > 0 or num < 0 or num == 0"
      ]
    },
    {
      "cell_type": "markdown",
      "metadata": {
        "id": "GyY-8XUJMgpl"
      },
      "source": [
        "### Age access control"
      ]
    },
    {
      "cell_type": "code",
      "execution_count": null,
      "metadata": {
        "id": "sNQXgmbgMgpm"
      },
      "outputs": [],
      "source": [
        "age = int(input(\"Enter your age: \"))\n",
        "\n",
        "if age ___ 18:\n",
        "    print(\"You are an adult.\")\n",
        "___ ___ >= 13:\n",
        "    print(\"You are a teenager.\")\n",
        "else:\n",
        "    print(\"You are a child.\")"
      ]
    },
    {
      "cell_type": "code",
      "execution_count": null,
      "metadata": {
        "id": "dVGZu1jJMgpm"
      },
      "outputs": [],
      "source": [
        "assert age >= 18 or age >= 13 or age < 13"
      ]
    },
    {
      "cell_type": "markdown",
      "metadata": {
        "id": "z9l3WTvyMgpm"
      },
      "source": [
        "### Day of the week"
      ]
    },
    {
      "cell_type": "code",
      "execution_count": null,
      "metadata": {
        "id": "RwpNe-jhMgpm"
      },
      "outputs": [],
      "source": [
        "day = \"Monday\"\n",
        "\n",
        "match day:\n",
        "    case \"Monday\" | \"Tuesday\" | ______ ______ _______\n",
        "        result = \"It's a weekday.\"\n",
        "     \"Saturday\" | \"Sunday\":\n",
        "        result = \"It's a weekend.\"\n",
        "\n",
        "        result = \"Invalid day.\"\n",
        "    print(result)"
      ]
    },
    {
      "cell_type": "code",
      "execution_count": null,
      "metadata": {
        "id": "AnHsZxLAMgpn"
      },
      "outputs": [],
      "source": [
        "assert result == \"It's a weekday.\", \"❌ The day should be a weekday.\""
      ]
    }
  ],
  "metadata": {
    "kernelspec": {
      "display_name": "Python 3",
      "language": "python",
      "name": "python3"
    },
    "language_info": {
      "codemirror_mode": {
        "name": "ipython",
        "version": 3
      },
      "file_extension": ".py",
      "mimetype": "text/x-python",
      "name": "python",
      "nbconvert_exporter": "python",
      "pygments_lexer": "ipython3",
      "version": "3.12.4"
    },
    "colab": {
      "provenance": []
    }
  },
  "nbformat": 4,
  "nbformat_minor": 0
}